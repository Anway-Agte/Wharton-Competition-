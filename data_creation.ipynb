{
 "cells": [
  {
   "cell_type": "code",
   "execution_count": 1,
   "id": "2efe6fd3",
   "metadata": {},
   "outputs": [],
   "source": [
    "import pandas as pd\n",
    "import numpy as np"
   ]
  },
  {
   "cell_type": "code",
   "execution_count": 2,
   "id": "66d18b21",
   "metadata": {},
   "outputs": [],
   "source": [
    "data = pd.read_excel(\"final.xlsx\")"
   ]
  },
  {
   "cell_type": "code",
   "execution_count": 3,
   "id": "e08005d7",
   "metadata": {},
   "outputs": [],
   "source": [
    "data = data[(data['DEMO_Org'] != 'Org 5') & (data['DEMO_Org'] != 'Org 2')]"
   ]
  },
  {
   "cell_type": "code",
   "execution_count": 4,
   "id": "469a104c",
   "metadata": {},
   "outputs": [
    {
     "data": {
      "text/plain": [
       "(713, 186)"
      ]
     },
     "execution_count": 4,
     "metadata": {},
     "output_type": "execute_result"
    }
   ],
   "source": [
    "\n",
    "pd.set_option('display.max_columns', None) \n",
    "\n",
    "pd.set_option('display.max_rows', None)\n",
    "\n",
    "data.shape"
   ]
  },
  {
   "cell_type": "code",
   "execution_count": 6,
   "id": "84cc2dac",
   "metadata": {},
   "outputs": [
    {
     "data": {
      "text/plain": [
       "196    NaN\n",
       "197    NaN\n",
       "198    NaN\n",
       "199    NaN\n",
       "200    NaN\n",
       "201    NaN\n",
       "202    NaN\n",
       "203    NaN\n",
       "254    NaN\n",
       "255    NaN\n",
       "256    NaN\n",
       "257    NaN\n",
       "258    NaN\n",
       "259    NaN\n",
       "260    NaN\n",
       "261    NaN\n",
       "262    NaN\n",
       "263    NaN\n",
       "784    NaN\n",
       "785    NaN\n",
       "893    NaN\n",
       "894    NaN\n",
       "895    NaN\n",
       "896    NaN\n",
       "897    NaN\n",
       "898    NaN\n",
       "899    NaN\n",
       "900    NaN\n",
       "901    NaN\n",
       "902    NaN\n",
       "903    NaN\n",
       "904    NaN\n",
       "905    NaN\n",
       "906    NaN\n",
       "907    NaN\n",
       "908    NaN\n",
       "1075   NaN\n",
       "1076   NaN\n",
       "1077   NaN\n",
       "1078   NaN\n",
       "1079   NaN\n",
       "1080   NaN\n",
       "1081   NaN\n",
       "1082   NaN\n",
       "1083   NaN\n",
       "1084   NaN\n",
       "1085   NaN\n",
       "1086   NaN\n",
       "1091   NaN\n",
       "1159   NaN\n",
       "1160   NaN\n",
       "1161   NaN\n",
       "1162   NaN\n",
       "1163   NaN\n",
       "1164   NaN\n",
       "1272   NaN\n",
       "1273   NaN\n",
       "1274   NaN\n",
       "1275   NaN\n",
       "1276   NaN\n",
       "1277   NaN\n",
       "1278   NaN\n",
       "1279   NaN\n",
       "1280   NaN\n",
       "1281   NaN\n",
       "1282   NaN\n",
       "1283   NaN\n",
       "1284   NaN\n",
       "1285   NaN\n",
       "1286   NaN\n",
       "1287   NaN\n",
       "1288   NaN\n",
       "1289   NaN\n",
       "1290   NaN\n",
       "1291   NaN\n",
       "1292   NaN\n",
       "1293   NaN\n",
       "1294   NaN\n",
       "1295   NaN\n",
       "1296   NaN\n",
       "1297   NaN\n",
       "1298   NaN\n",
       "1299   NaN\n",
       "1300   NaN\n",
       "1301   NaN\n",
       "Name: OBSV_PreC_interative_B_remote, dtype: float64"
      ]
     },
     "execution_count": 6,
     "metadata": {},
     "output_type": "execute_result"
    }
   ],
   "source": [
    "data[data.DEMO_Org == 'Org 1']['OBSV_PreC_interative_B_remote']"
   ]
  },
  {
   "cell_type": "code",
   "execution_count": 7,
   "id": "a292115c",
   "metadata": {},
   "outputs": [
    {
     "data": {
      "text/plain": [
       "166"
      ]
     },
     "execution_count": 7,
     "metadata": {},
     "output_type": "execute_result"
    }
   ],
   "source": [
    "sum(data.isna().sum() <= 843/2)"
   ]
  },
  {
   "cell_type": "code",
   "execution_count": 8,
   "id": "478c6532",
   "metadata": {},
   "outputs": [
    {
     "data": {
      "text/plain": [
       "Unnamed: 0                                         0\n",
       "DEMO_Org                                           0\n",
       "DEMO_meeting_remote                              243\n",
       "DEMO_Dept                                          0\n",
       "OBSV_PreC_Location_A_primryoffice                477\n",
       "OBSV_PreC_Location_B_officeother                 477\n",
       "OBSV_PreC_Location_C_client                      477\n",
       "OBSV_PreC_Location_D_WFH                         477\n",
       "OBSV_PreC_Location_E_publicspace                 477\n",
       "OBSV_PreC_Location_F_transit                     477\n",
       "OBSV_PreC_Location_G_other                       477\n",
       "OBSV_Now_Interact_Work_within_org                  3\n",
       "OBSV_PreC_meeting_A_inperson                     100\n",
       "OBSV_PreC_meeting_B_hyrbid                       100\n",
       "OBSV_PreC_meeting_C_remote                       100\n",
       "OBSV_PreC_interative_A_inperson                  562\n",
       "OBSV_PreC_interative_B_remote                    562\n",
       "OBSV_same_space_count_A_1                        470\n",
       "OBSV_same_space_count_B_2n3                      470\n",
       "OBSV_same_space_count_C_4n9                      470\n",
       "OBSV_same_space_count_D_10p                      470\n",
       "OBSV_PreC_meetingsize0ffice_A_1                  121\n",
       "OBSV_PreC_meetingsize0ffice_B_2n3                121\n",
       "OBSV_PreC_meetingsize0ffice_C_4n9                121\n",
       "OBSV_PreC_wiOffice_A_desk                         96\n",
       "OBSV_PreC_wiOffice_B_otherdeck                    96\n",
       "OBSV_PreC_wiOffice_C_meetingrm                    96\n",
       "OBSV_PreC_wiOffice_D_lobby                        96\n",
       "OBSV_PreC_wiOffice_E_speicaltyarea                96\n",
       "OBSV_PreC_wiOffice_F_other                        96\n",
       "OBSV_PreC_space_A_InformalMtg                    243\n",
       "OBSV_PreC_space_B_FormalMtg                      243\n",
       "OBSV_PreC_5A_lost_layout                         391\n",
       "OBSV_PreC_5B_lost_looking                        308\n",
       "OBSV_PreC_5C_lost_perstech                       351\n",
       "OBSV_PreC_5D_lost_roomtech                       370\n",
       "OBSV_PreC_5E_lost_visitors                       308\n",
       "OBSV_PreC_5F_lost_noise                          327\n",
       "OBSV_PreC_5G_lost_comms                          319\n",
       "OBSV_PreC_5H_lost_ergo                           404\n",
       "OBSV_PreC_5I_lost_temp                           378\n",
       "OBSV_PreC_5J_lost_odor                           407\n",
       "OBSV_PreC_5K_lost_natlight                       405\n",
       "OBSV_PreC_5L_lost_indoorlight                    393\n",
       "PostC_impact_RankDifficult_A_MH                  248\n",
       "PostC_impact_RankDifficult_B_community           248\n",
       "PostC_impact_RankDifficult_C_Communication       248\n",
       "PostC_impact_RankDifficult_D_Tech                248\n",
       "PostC_impact_RankDifficult_E_space               248\n",
       "PostC_impact_RankDifficult_F_Environment         248\n",
       "PostC_impact_shift_D_videoconf                   471\n",
       "PostC_impact_shift_E_innovate                     86\n",
       "DECSN_factors_E_commutelength                    328\n",
       "DECSN_factors_F_collabtools                      338\n",
       "DECSN_factors_G_concentrate                      338\n",
       "DECSN_factors_H_purpose                          338\n",
       "DECSN_factors_I_coworkerspresence                713\n",
       "DECSN_factors_J_teampresence                     337\n",
       "DECSN_factors_K_socialevents                     338\n",
       "DECSN_factors_L_community                        338\n",
       "DECSN_factors_M_metorship                        338\n",
       "DECSN_factors_N_neighorhood                      338\n",
       "DECSN_factors_O_food                             338\n",
       "DECSN_factors_P_family                           338\n",
       "DECSN_factors_Q_leadership                       337\n",
       "PREF_space_A_focusedWk                             4\n",
       "PREF_Envr_Focus_1A_activity                      169\n",
       "PREF_Envr_Focus_1B_closure                       150\n",
       "PREF_Envr_Focus_1C_remote                        160\n",
       "PREF_Envr_Focus_1D_color                          80\n",
       "PREF_Envr_Focus_1E_light                          24\n",
       "PREF_Envr_Focus_1F_formality                     117\n",
       "PREF_Envr_Focus_1H_energy                         66\n",
       "PREF_Envr_Collab_2A_activity                      79\n",
       "PREF_Envr_Collab_2B_closure                       74\n",
       "PREF_Envr_Collab_2C_remote                        74\n",
       "PREF_Envr_Collab_2D_color                         54\n",
       "PREF_Envr_Collab_2E_light                         14\n",
       "PREF_Envr_Collab_2F_formality                     76\n",
       "PREF_Envr_Collab_2H_energy                        37\n",
       "PREF_features_A_chair                             75\n",
       "PREF_features_B_proximitry                       247\n",
       "PREF_features_C_concentration                      0\n",
       "PREF_features_D_privacy                            4\n",
       "PREF_features_E_noise                              4\n",
       "PREF_features_F_daylight                           4\n",
       "PREF_features_G_light                              4\n",
       "PREF_features_H_nature                             4\n",
       "PREF_features_I_Sychro                           629\n",
       "PREF_features_J_collabspace                      713\n",
       "PREF_features_K_temp                             247\n",
       "PREF_features_L_clean                            247\n",
       "PREF_features_M_lockers                            0\n",
       "PREF_features_N_events                             0\n",
       "PREF_features_O_food                               0\n",
       "PREF_features_Q_kitchen                          470\n",
       "PREF_features_R_gym                                0\n",
       "PREF_features_S_relax                              0\n",
       "PREF_features_T_greenspace                         0\n",
       "PREF_CollabSpace_A_tech                            4\n",
       "PREF_CollabSpace_B_software                      331\n",
       "PREF_CollabSpace_C_CollabTools                     4\n",
       "PREF_CollabSpace_D_furniture                     246\n",
       "PREF_CollabSpace_E_seating                       246\n",
       "PREF_CollabSpace_F_naturallight                  246\n",
       "PREF_CollabSpace_G_acoustics                     331\n",
       "SATSF_CollabSpace_A_Tech                           4\n",
       "SATSF_CollabSpace_B_software                     331\n",
       "SATSF_CollabSpace_C_CollabTools                    4\n",
       "SATSF_CollabSpace_D_furniture                    246\n",
       "SATSF_CollabSpace_E_seating                      246\n",
       "SATSF_CollabSpace_F_naturallight                 246\n",
       "SATSF_CollabSpace_G_acoustics                    331\n",
       "SATSF_HomeOffice_A_Tech                          331\n",
       "SATSF_HomeOffice_B_software                      331\n",
       "SATSF_HomeOffice_C_CollabTools                   331\n",
       "SATSF_HomeOffice_D_furniture                     331\n",
       "SATSF_HomeOffice_E_seating                       331\n",
       "SATSF_HomeOffice_F_naturallight                  331\n",
       "SATSF_HomeOffice_G_acoustics                     331\n",
       "SATSF_office_A_community                         246\n",
       "SATSF_office_B_designexcellence                  328\n",
       "SATSF_office_C_pride                             246\n",
       "SATSF_office_D_expressme                         246\n",
       "SATSF_office_E_control                           246\n",
       "SATSF_office_F_wellbeing                         246\n",
       "SATSF_office_G_myfamily                          246\n",
       "SATSF_office_H_customers                         246\n",
       "SATSF_office_I_orgcullture                       246\n",
       "SATSF_office_J_knowledgeshare                    246\n",
       "SATSF_office_K_planet                            246\n",
       "SATSF_facilitate_Home_1A_focus                   331\n",
       "SATSF_facilitate_Home_1B_inpersoncollab          331\n",
       "SATSF_facilitate_Home_1C_virtualcollab           331\n",
       "SATSF_facilitate_Office_2A_focus                 247\n",
       "SATSF_facilitate_Office_2B_inpersoncollab        247\n",
       "SATSF_facilitate_Office_2C_virtualcollab         247\n",
       "SATSF_facilitate_HomeTech_3A_virtualcollab       331\n",
       "SATSF_facilitate_HomeTech_3B_inpersoncollab      331\n",
       "SATSF_facilitate_HomeTech_3C_virtualcollab       331\n",
       "SATSF_facilitate_OfficeTech_4A_virtualcollab     247\n",
       "SATSF_facilitate_OfficeTech_4B_inpersoncollab    247\n",
       "SATSF_facilitate_OfficeTech_4C_virtualcollab     247\n",
       "WP_Featr_office_A_community                      246\n",
       "WP_Featr_office_B_designexcellence               328\n",
       "WP_Featr_office_C_pride                          246\n",
       "WP_Featr_office_D_expressme                      246\n",
       "WP_Featr_office_E_control                        246\n",
       "WP_Featr_office_F_wellbeing                      246\n",
       "WP_Featr_office_G_myfamily                       246\n",
       "WP_Featr_office_H_customers                      246\n",
       "WP_Featr_office_I_oegculture                     246\n",
       "WP_Featr_office_J_knowledgeshare                 246\n",
       "WP_Featr_office_K_planet                         246\n",
       "Etc1_WLB_improved                                328\n",
       "Etc2_chooseWFH                                   328\n",
       "Etc3_no_workstation                              328\n",
       "Etc4_justlaptop                                  328\n",
       "Etc5_teamclose                                   328\n",
       "Etc6_connected                                   328\n",
       "Etc7_priorities                                  328\n",
       "Etc8_WFK_efffective                              328\n",
       "OBSV_PreC_WFH_Days_Wk                            248\n",
       "DEMO_Tenure_PreC_employee                        390\n",
       "PREF_WFK_rate_home                               248\n",
       "PostC_impact_shift_A_focus                       248\n",
       "PostC_impact_shift_B_productive                    6\n",
       "PostC_impact_shift_C_collab                        6\n",
       "PostC_impact_shift_F_colleagueaccess               6\n",
       "PostC_impact_shift_G_teammeetings                713\n",
       "PostC_impact_shift_H_social                      248\n",
       "PostC_impact_shift_I_managersconnect             328\n",
       "PostC_impact_shift_J_client                      248\n",
       "PostC_impact_shift_K_enjoy                       328\n",
       "DECSN_factors_A_noinpersonmtgs                   363\n",
       "DECSN_factors_B_healthwellness                   363\n",
       "DECSN_factors_C_WrkLifeSep                       328\n",
       "DECSN_factors_D_safety                           713\n",
       "OBSV_Now_WrkTimeA_Indiv_fract_vCollab              3\n",
       "OBSV_PreC_meetingsize0ffice_D_10plus             121\n",
       "PREF_space_B_inperson_collab                       4\n",
       "PREF_space_C_videoconf                             4\n",
       "PREF_space_D_impromptu                             4\n",
       "PREF_space_E_recharge                              4\n",
       "PREF_space_F_accessible                            4\n",
       "PREF_space_G_firstarrive                           4\n",
       "dtype: int64"
      ]
     },
     "execution_count": 8,
     "metadata": {},
     "output_type": "execute_result"
    }
   ],
   "source": [
    "data.isna().sum()"
   ]
  },
  {
   "cell_type": "code",
   "execution_count": 9,
   "id": "404c5408",
   "metadata": {},
   "outputs": [],
   "source": [
    "orgs = data.DEMO_Org.unique()\n",
    "datas = {}\n",
    "for org in orgs:\n",
    "    datas[org] = data[data.DEMO_Org == org] \n"
   ]
  },
  {
   "cell_type": "code",
   "execution_count": 10,
   "id": "eca0f040",
   "metadata": {},
   "outputs": [],
   "source": [
    "gs  = {}\n",
    "\n",
    "for org in orgs:\n",
    "        gs[org] = data.columns[datas[org].isna().sum() != datas[org].shape[0]] "
   ]
  },
  {
   "cell_type": "code",
   "execution_count": 11,
   "id": "65cbe864",
   "metadata": {},
   "outputs": [],
   "source": [
    "h = []\n",
    "for org in orgs:\n",
    "    h.append(gs[org])"
   ]
  },
  {
   "cell_type": "code",
   "execution_count": 12,
   "id": "548cbb66",
   "metadata": {},
   "outputs": [],
   "source": [
    "common = list(set.intersection(*map(set,h)))"
   ]
  },
  {
   "cell_type": "code",
   "execution_count": 13,
   "id": "e84ca0a2",
   "metadata": {},
   "outputs": [
    {
     "data": {
      "text/plain": [
       "59"
      ]
     },
     "execution_count": 13,
     "metadata": {},
     "output_type": "execute_result"
    }
   ],
   "source": [
    "len(common)"
   ]
  },
  {
   "cell_type": "code",
   "execution_count": 14,
   "id": "54d7864e",
   "metadata": {},
   "outputs": [],
   "source": [
    "f = data[common]"
   ]
  },
  {
   "cell_type": "code",
   "execution_count": 15,
   "id": "6ae4b599",
   "metadata": {},
   "outputs": [],
   "source": [
    "f.to_excel(\"finalorg134.xlsx\")"
   ]
  },
  {
   "cell_type": "code",
   "execution_count": 16,
   "id": "955f502d",
   "metadata": {},
   "outputs": [
    {
     "data": {
      "text/plain": [
       "(713, 59)"
      ]
     },
     "execution_count": 16,
     "metadata": {},
     "output_type": "execute_result"
    }
   ],
   "source": [
    "f.shape"
   ]
  },
  {
   "cell_type": "code",
   "execution_count": null,
   "id": "69aff0c8",
   "metadata": {},
   "outputs": [],
   "source": []
  }
 ],
 "metadata": {
  "kernelspec": {
   "display_name": "Python 3 (ipykernel)",
   "language": "python",
   "name": "python3"
  },
  "language_info": {
   "codemirror_mode": {
    "name": "ipython",
    "version": 3
   },
   "file_extension": ".py",
   "mimetype": "text/x-python",
   "name": "python",
   "nbconvert_exporter": "python",
   "pygments_lexer": "ipython3",
   "version": "3.11.5"
  }
 },
 "nbformat": 4,
 "nbformat_minor": 5
}
