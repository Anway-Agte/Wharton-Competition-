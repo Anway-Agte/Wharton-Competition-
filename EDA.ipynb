{
 "cells": [
  {
   "cell_type": "code",
   "execution_count": 18,
   "id": "d5d585b3",
   "metadata": {},
   "outputs": [],
   "source": [
    "import pandas as pd"
   ]
  },
  {
   "cell_type": "code",
   "execution_count": 19,
   "id": "59be7ce9",
   "metadata": {},
   "outputs": [],
   "source": [
    "import numpy as np"
   ]
  },
  {
   "cell_type": "code",
   "execution_count": 20,
   "id": "6417fe72",
   "metadata": {},
   "outputs": [],
   "source": [
    "data = pd.read_excel(\"final.xlsx\")"
   ]
  },
  {
   "cell_type": "code",
   "execution_count": 21,
   "id": "548766e2",
   "metadata": {},
   "outputs": [],
   "source": [
    "pd.set_option('display.max_columns', None) \n",
    "\n",
    "pd.set_option('display.max_rows', None) "
   ]
  },
  {
   "cell_type": "code",
   "execution_count": 22,
   "id": "d971fd9e",
   "metadata": {},
   "outputs": [],
   "source": [
    "from sklearn.preprocessing import LabelEncoder \n",
    "\n",
    "enc = LabelEncoder()\n",
    "\n",
    "data['DEMO_Dept'] = enc.fit_transform(data.DEMO_Dept)"
   ]
  },
  {
   "cell_type": "code",
   "execution_count": 23,
   "id": "d63ace12",
   "metadata": {},
   "outputs": [],
   "source": [
    "office_pref = data[data['PREF_WFK_rate_home']<0.3\n",
    "                  ]"
   ]
  },
  {
   "cell_type": "code",
   "execution_count": 24,
   "id": "438211df",
   "metadata": {},
   "outputs": [],
   "source": [
    "import matplotlib.pyplot as plt"
   ]
  },
  {
   "cell_type": "code",
   "execution_count": 25,
   "id": "9b468f6c",
   "metadata": {},
   "outputs": [
    {
     "data": {
      "text/plain": [
       "array([ 0, 12,  6,  1,  2,  3,  4,  5, 10,  7,  8, 11, 13, 14, 15])"
      ]
     },
     "execution_count": 25,
     "metadata": {},
     "output_type": "execute_result"
    }
   ],
   "source": [
    "office_pref.DEMO_Dept.unique()"
   ]
  },
  {
   "cell_type": "code",
   "execution_count": 26,
   "id": "a9cc0074",
   "metadata": {},
   "outputs": [
    {
     "name": "stdout",
     "output_type": "stream",
     "text": [
      "Unnamed: 0\n",
      "DEMO_Org\n",
      "DEMO_meeting_remote\n",
      "DEMO_Dept\n",
      "OBSV_PreC_Location_A_primryoffice\n",
      "OBSV_PreC_Location_B_officeother\n",
      "OBSV_PreC_Location_C_client\n",
      "OBSV_PreC_Location_D_WFH\n",
      "OBSV_PreC_Location_E_publicspace\n",
      "OBSV_PreC_Location_F_transit\n",
      "OBSV_PreC_Location_G_other\n",
      "OBSV_Now_Interact_Work_within_org\n",
      "OBSV_PreC_meeting_A_inperson\n",
      "OBSV_PreC_meeting_B_hyrbid\n",
      "OBSV_PreC_meeting_C_remote\n",
      "OBSV_PreC_interative_A_inperson\n",
      "OBSV_PreC_interative_B_remote\n",
      "OBSV_same_space_count_A_1\n",
      "OBSV_same_space_count_B_2n3\n",
      "OBSV_same_space_count_C_4n9\n",
      "OBSV_same_space_count_D_10p\n",
      "OBSV_PreC_meetingsize0ffice_A_1\n",
      "OBSV_PreC_meetingsize0ffice_B_2n3\n",
      "OBSV_PreC_meetingsize0ffice_C_4n9\n",
      "OBSV_PreC_wiOffice_A_desk\n",
      "OBSV_PreC_wiOffice_B_otherdeck\n",
      "OBSV_PreC_wiOffice_C_meetingrm\n",
      "OBSV_PreC_wiOffice_D_lobby\n",
      "OBSV_PreC_wiOffice_E_speicaltyarea\n",
      "OBSV_PreC_wiOffice_F_other\n",
      "OBSV_PreC_space_A_InformalMtg\n",
      "OBSV_PreC_space_B_FormalMtg\n",
      "OBSV_PreC_5A_lost_layout\n",
      "OBSV_PreC_5B_lost_looking\n",
      "OBSV_PreC_5C_lost_perstech\n",
      "OBSV_PreC_5D_lost_roomtech\n",
      "OBSV_PreC_5E_lost_visitors\n",
      "OBSV_PreC_5F_lost_noise\n",
      "OBSV_PreC_5G_lost_comms\n",
      "OBSV_PreC_5H_lost_ergo\n",
      "OBSV_PreC_5I_lost_temp\n",
      "OBSV_PreC_5J_lost_odor\n",
      "OBSV_PreC_5K_lost_natlight\n",
      "OBSV_PreC_5L_lost_indoorlight\n",
      "PostC_impact_RankDifficult_A_MH\n",
      "PostC_impact_RankDifficult_B_community\n",
      "PostC_impact_RankDifficult_C_Communication\n",
      "PostC_impact_RankDifficult_D_Tech\n",
      "PostC_impact_RankDifficult_E_space\n",
      "PostC_impact_RankDifficult_F_Environment\n",
      "PostC_impact_shift_D_videoconf\n",
      "PostC_impact_shift_E_innovate\n",
      "DECSN_factors_E_commutelength\n",
      "DECSN_factors_F_collabtools\n",
      "DECSN_factors_G_concentrate\n",
      "DECSN_factors_H_purpose\n",
      "DECSN_factors_I_coworkerspresence\n",
      "DECSN_factors_J_teampresence\n",
      "DECSN_factors_K_socialevents\n",
      "DECSN_factors_L_community\n",
      "DECSN_factors_M_metorship\n",
      "DECSN_factors_N_neighorhood\n",
      "DECSN_factors_O_food\n",
      "DECSN_factors_P_family\n",
      "DECSN_factors_Q_leadership\n",
      "PREF_space_A_focusedWk\n",
      "PREF_Envr_Focus_1A_activity\n",
      "PREF_Envr_Focus_1B_closure\n",
      "PREF_Envr_Focus_1C_remote\n",
      "PREF_Envr_Focus_1D_color\n",
      "PREF_Envr_Focus_1E_light\n",
      "PREF_Envr_Focus_1F_formality\n",
      "PREF_Envr_Focus_1H_energy\n",
      "PREF_Envr_Collab_2A_activity\n",
      "PREF_Envr_Collab_2B_closure\n",
      "PREF_Envr_Collab_2C_remote\n",
      "PREF_Envr_Collab_2D_color\n",
      "PREF_Envr_Collab_2E_light\n",
      "PREF_Envr_Collab_2F_formality\n",
      "PREF_Envr_Collab_2H_energy\n",
      "PREF_features_A_chair\n",
      "PREF_features_B_proximitry\n",
      "PREF_features_C_concentration\n",
      "PREF_features_D_privacy\n",
      "PREF_features_E_noise\n",
      "PREF_features_F_daylight\n",
      "PREF_features_G_light\n",
      "PREF_features_H_nature\n",
      "PREF_features_I_Sychro\n",
      "PREF_features_J_collabspace\n",
      "PREF_features_K_temp\n",
      "PREF_features_L_clean\n",
      "PREF_features_M_lockers\n",
      "PREF_features_N_events\n",
      "PREF_features_O_food\n",
      "PREF_features_Q_kitchen\n",
      "PREF_features_R_gym\n",
      "PREF_features_S_relax\n",
      "PREF_features_T_greenspace\n",
      "PREF_CollabSpace_A_tech\n",
      "PREF_CollabSpace_B_software\n",
      "PREF_CollabSpace_C_CollabTools\n",
      "PREF_CollabSpace_D_furniture\n",
      "PREF_CollabSpace_E_seating\n",
      "PREF_CollabSpace_F_naturallight\n",
      "PREF_CollabSpace_G_acoustics\n",
      "SATSF_CollabSpace_A_Tech\n",
      "SATSF_CollabSpace_B_software\n",
      "SATSF_CollabSpace_C_CollabTools\n",
      "SATSF_CollabSpace_D_furniture\n",
      "SATSF_CollabSpace_E_seating\n",
      "SATSF_CollabSpace_F_naturallight\n",
      "SATSF_CollabSpace_G_acoustics\n",
      "SATSF_HomeOffice_A_Tech\n",
      "SATSF_HomeOffice_B_software\n",
      "SATSF_HomeOffice_C_CollabTools\n",
      "SATSF_HomeOffice_D_furniture\n",
      "SATSF_HomeOffice_E_seating\n",
      "SATSF_HomeOffice_F_naturallight\n",
      "SATSF_HomeOffice_G_acoustics\n",
      "SATSF_office_A_community\n",
      "SATSF_office_B_designexcellence\n",
      "SATSF_office_C_pride\n",
      "SATSF_office_D_expressme\n",
      "SATSF_office_E_control\n",
      "SATSF_office_F_wellbeing\n",
      "SATSF_office_G_myfamily\n",
      "SATSF_office_H_customers\n",
      "SATSF_office_I_orgcullture\n",
      "SATSF_office_J_knowledgeshare\n",
      "SATSF_office_K_planet\n",
      "SATSF_facilitate_Home_1A_focus\n",
      "SATSF_facilitate_Home_1B_inpersoncollab\n",
      "SATSF_facilitate_Home_1C_virtualcollab\n",
      "SATSF_facilitate_Office_2A_focus\n",
      "SATSF_facilitate_Office_2B_inpersoncollab\n",
      "SATSF_facilitate_Office_2C_virtualcollab\n",
      "SATSF_facilitate_HomeTech_3A_virtualcollab\n",
      "SATSF_facilitate_HomeTech_3B_inpersoncollab\n",
      "SATSF_facilitate_HomeTech_3C_virtualcollab\n",
      "SATSF_facilitate_OfficeTech_4A_virtualcollab\n",
      "SATSF_facilitate_OfficeTech_4B_inpersoncollab\n",
      "SATSF_facilitate_OfficeTech_4C_virtualcollab\n",
      "WP_Featr_office_A_community\n",
      "WP_Featr_office_B_designexcellence\n",
      "WP_Featr_office_C_pride\n",
      "WP_Featr_office_D_expressme\n",
      "WP_Featr_office_E_control\n",
      "WP_Featr_office_F_wellbeing\n",
      "WP_Featr_office_G_myfamily\n",
      "WP_Featr_office_H_customers\n",
      "WP_Featr_office_I_oegculture\n",
      "WP_Featr_office_J_knowledgeshare\n",
      "WP_Featr_office_K_planet\n",
      "Etc1_WLB_improved\n",
      "Etc2_chooseWFH\n",
      "Etc3_no_workstation\n",
      "Etc4_justlaptop\n",
      "Etc5_teamclose\n",
      "Etc6_connected\n",
      "Etc7_priorities\n",
      "Etc8_WFK_efffective\n",
      "OBSV_PreC_WFH_Days_Wk\n",
      "DEMO_Tenure_PreC_employee\n",
      "PREF_WFK_rate_home\n",
      "PostC_impact_shift_A_focus\n",
      "PostC_impact_shift_B_productive\n",
      "PostC_impact_shift_C_collab\n",
      "PostC_impact_shift_F_colleagueaccess\n",
      "PostC_impact_shift_G_teammeetings\n",
      "PostC_impact_shift_H_social\n",
      "PostC_impact_shift_I_managersconnect\n",
      "PostC_impact_shift_J_client\n",
      "PostC_impact_shift_K_enjoy\n",
      "DECSN_factors_A_noinpersonmtgs\n",
      "DECSN_factors_B_healthwellness\n",
      "DECSN_factors_C_WrkLifeSep\n",
      "DECSN_factors_D_safety\n",
      "OBSV_Now_WrkTimeA_Indiv_fract_vCollab\n",
      "OBSV_PreC_meetingsize0ffice_D_10plus\n",
      "PREF_space_B_inperson_collab\n",
      "PREF_space_C_videoconf\n",
      "PREF_space_D_impromptu\n",
      "PREF_space_E_recharge\n",
      "PREF_space_F_accessible\n",
      "PREF_space_G_firstarrive\n"
     ]
    }
   ],
   "source": [
    "for col in data.columns:\n",
    "    print(col)"
   ]
  },
  {
   "cell_type": "markdown",
   "id": "f2341d92",
   "metadata": {},
   "source": [
    "office_pref.DEMO_Dept"
   ]
  },
  {
   "cell_type": "code",
   "execution_count": null,
   "id": "43707e87",
   "metadata": {},
   "outputs": [],
   "source": []
  },
  {
   "cell_type": "code",
   "execution_count": 27,
   "id": "a469e65b",
   "metadata": {},
   "outputs": [],
   "source": [
    "import seaborn as sns "
   ]
  },
  {
   "cell_type": "code",
   "execution_count": 28,
   "id": "6ca2e487",
   "metadata": {
    "scrolled": true
   },
   "outputs": [
    {
     "data": {
      "image/png": "[encoded data removed]",
      "text/plain": [
       "<Figure size 1000x800 with 1 Axes>"
      ]
     },
     "metadata": {},
     "output_type": "display_data"
    }
   ],
   "source": [
    "plt.figure(figsize=(10,8))\n",
    "sns.countplot(x='DEMO_Dept',data=office_pref,hue='DEMO_Dept',width=1)\n",
    "plt.show()"
   ]
  },
  {
   "cell_type": "code",
   "execution_count": 29,
   "id": "cb98984f",
   "metadata": {},
   "outputs": [
    {
     "name": "stdout",
     "output_type": "stream",
     "text": [
      "['Accounting' 'Architect / Designer'\n",
      " 'Construction Management & Site Development' 'Customer Support'\n",
      " 'Engineering' 'Environmental & Transport Specialist' 'Finance'\n",
      " 'Human Resources' 'Information Systems / IT' 'Investments & BD'\n",
      " 'Management' 'Marketing' 'Operations and Support' 'Product Development'\n",
      " 'Sales & Service' 'Workplace & Tech Services']\n"
     ]
    }
   ],
   "source": [
    "print(enc.classes_) "
   ]
  },
  {
   "cell_type": "code",
   "execution_count": 30,
   "id": "6414f5e1",
   "metadata": {},
   "outputs": [
    {
     "data": {
      "text/plain": [
       "'Engineering'"
      ]
     },
     "execution_count": 30,
     "metadata": {},
     "output_type": "execute_result"
    }
   ],
   "source": [
    "enc.classes_[4]"
   ]
  },
  {
   "cell_type": "code",
   "execution_count": 31,
   "id": "2a5866d3",
   "metadata": {},
   "outputs": [
    {
     "data": {
      "text/plain": [
       "'Sales & Service'"
      ]
     },
     "execution_count": 31,
     "metadata": {},
     "output_type": "execute_result"
    }
   ],
   "source": [
    "enc.classes_[14]"
   ]
  },
  {
   "cell_type": "code",
   "execution_count": 32,
   "id": "50df9ead",
   "metadata": {},
   "outputs": [
    {
     "data": {
      "text/plain": [
       "491"
      ]
     },
     "execution_count": 32,
     "metadata": {},
     "output_type": "execute_result"
    }
   ],
   "source": [
    "home_pref = data[data.PREF_WFK_rate_home > 0.7] \n",
    "\n",
    "len(home_pref)"
   ]
  },
  {
   "cell_type": "code",
   "execution_count": 33,
   "id": "4c519c74",
   "metadata": {},
   "outputs": [
    {
     "data": {
      "image/png": "[encoded data removed]",
      "text/plain": [
       "<Figure size 1000x800 with 1 Axes>"
      ]
     },
     "metadata": {},
     "output_type": "display_data"
    }
   ],
   "source": [
    "plt.figure(figsize=(10,8))\n",
    "sns.countplot(x='DEMO_Dept',data=home_pref,hue='DEMO_Dept',width=1)\n",
    "plt.show()"
   ]
  },
  {
   "cell_type": "code",
   "execution_count": 35,
   "id": "2cdc6959",
   "metadata": {},
   "outputs": [
    {
     "name": "stdout",
     "output_type": "stream",
     "text": [
      "Unnamed: 0\n",
      "DEMO_Org\n",
      "DEMO_meeting_remote\n",
      "DEMO_Dept\n",
      "OBSV_PreC_Location_A_primryoffice\n",
      "OBSV_PreC_Location_B_officeother\n",
      "OBSV_PreC_Location_C_client\n",
      "OBSV_PreC_Location_D_WFH\n",
      "OBSV_PreC_Location_E_publicspace\n",
      "OBSV_PreC_Location_F_transit\n",
      "OBSV_PreC_Location_G_other\n",
      "OBSV_Now_Interact_Work_within_org\n",
      "OBSV_PreC_meeting_A_inperson\n",
      "OBSV_PreC_meeting_B_hyrbid\n",
      "OBSV_PreC_meeting_C_remote\n",
      "OBSV_PreC_interative_A_inperson\n",
      "OBSV_PreC_interative_B_remote\n",
      "OBSV_same_space_count_A_1\n",
      "OBSV_same_space_count_B_2n3\n",
      "OBSV_same_space_count_C_4n9\n",
      "OBSV_same_space_count_D_10p\n",
      "OBSV_PreC_meetingsize0ffice_A_1\n",
      "OBSV_PreC_meetingsize0ffice_B_2n3\n",
      "OBSV_PreC_meetingsize0ffice_C_4n9\n",
      "OBSV_PreC_wiOffice_A_desk\n",
      "OBSV_PreC_wiOffice_B_otherdeck\n",
      "OBSV_PreC_wiOffice_C_meetingrm\n",
      "OBSV_PreC_wiOffice_D_lobby\n",
      "OBSV_PreC_wiOffice_E_speicaltyarea\n",
      "OBSV_PreC_wiOffice_F_other\n",
      "OBSV_PreC_space_A_InformalMtg\n",
      "OBSV_PreC_space_B_FormalMtg\n",
      "OBSV_PreC_5A_lost_layout\n",
      "OBSV_PreC_5B_lost_looking\n",
      "OBSV_PreC_5C_lost_perstech\n",
      "OBSV_PreC_5D_lost_roomtech\n",
      "OBSV_PreC_5E_lost_visitors\n",
      "OBSV_PreC_5F_lost_noise\n",
      "OBSV_PreC_5G_lost_comms\n",
      "OBSV_PreC_5H_lost_ergo\n",
      "OBSV_PreC_5I_lost_temp\n",
      "OBSV_PreC_5J_lost_odor\n",
      "OBSV_PreC_5K_lost_natlight\n",
      "OBSV_PreC_5L_lost_indoorlight\n",
      "PostC_impact_RankDifficult_A_MH\n",
      "PostC_impact_RankDifficult_B_community\n",
      "PostC_impact_RankDifficult_C_Communication\n",
      "PostC_impact_RankDifficult_D_Tech\n",
      "PostC_impact_RankDifficult_E_space\n",
      "PostC_impact_RankDifficult_F_Environment\n",
      "PostC_impact_shift_D_videoconf\n",
      "PostC_impact_shift_E_innovate\n",
      "DECSN_factors_E_commutelength\n",
      "DECSN_factors_F_collabtools\n",
      "DECSN_factors_G_concentrate\n",
      "DECSN_factors_H_purpose\n",
      "DECSN_factors_I_coworkerspresence\n",
      "DECSN_factors_J_teampresence\n",
      "DECSN_factors_K_socialevents\n",
      "DECSN_factors_L_community\n",
      "DECSN_factors_M_metorship\n",
      "DECSN_factors_N_neighorhood\n",
      "DECSN_factors_O_food\n",
      "DECSN_factors_P_family\n",
      "DECSN_factors_Q_leadership\n",
      "PREF_space_A_focusedWk\n",
      "PREF_Envr_Focus_1A_activity\n",
      "PREF_Envr_Focus_1B_closure\n",
      "PREF_Envr_Focus_1C_remote\n",
      "PREF_Envr_Focus_1D_color\n",
      "PREF_Envr_Focus_1E_light\n",
      "PREF_Envr_Focus_1F_formality\n",
      "PREF_Envr_Focus_1H_energy\n",
      "PREF_Envr_Collab_2A_activity\n",
      "PREF_Envr_Collab_2B_closure\n",
      "PREF_Envr_Collab_2C_remote\n",
      "PREF_Envr_Collab_2D_color\n",
      "PREF_Envr_Collab_2E_light\n",
      "PREF_Envr_Collab_2F_formality\n",
      "PREF_Envr_Collab_2H_energy\n",
      "PREF_features_A_chair\n",
      "PREF_features_B_proximitry\n",
      "PREF_features_C_concentration\n",
      "PREF_features_D_privacy\n",
      "PREF_features_E_noise\n",
      "PREF_features_F_daylight\n",
      "PREF_features_G_light\n",
      "PREF_features_H_nature\n",
      "PREF_features_I_Sychro\n",
      "PREF_features_J_collabspace\n",
      "PREF_features_K_temp\n",
      "PREF_features_L_clean\n",
      "PREF_features_M_lockers\n",
      "PREF_features_N_events\n",
      "PREF_features_O_food\n",
      "PREF_features_Q_kitchen\n",
      "PREF_features_R_gym\n",
      "PREF_features_S_relax\n",
      "PREF_features_T_greenspace\n",
      "PREF_CollabSpace_A_tech\n",
      "PREF_CollabSpace_B_software\n",
      "PREF_CollabSpace_C_CollabTools\n",
      "PREF_CollabSpace_D_furniture\n",
      "PREF_CollabSpace_E_seating\n",
      "PREF_CollabSpace_F_naturallight\n",
      "PREF_CollabSpace_G_acoustics\n",
      "SATSF_CollabSpace_A_Tech\n",
      "SATSF_CollabSpace_B_software\n",
      "SATSF_CollabSpace_C_CollabTools\n",
      "SATSF_CollabSpace_D_furniture\n",
      "SATSF_CollabSpace_E_seating\n",
      "SATSF_CollabSpace_F_naturallight\n",
      "SATSF_CollabSpace_G_acoustics\n",
      "SATSF_HomeOffice_A_Tech\n",
      "SATSF_HomeOffice_B_software\n",
      "SATSF_HomeOffice_C_CollabTools\n",
      "SATSF_HomeOffice_D_furniture\n",
      "SATSF_HomeOffice_E_seating\n",
      "SATSF_HomeOffice_F_naturallight\n",
      "SATSF_HomeOffice_G_acoustics\n",
      "SATSF_office_A_community\n",
      "SATSF_office_B_designexcellence\n",
      "SATSF_office_C_pride\n",
      "SATSF_office_D_expressme\n",
      "SATSF_office_E_control\n",
      "SATSF_office_F_wellbeing\n",
      "SATSF_office_G_myfamily\n",
      "SATSF_office_H_customers\n",
      "SATSF_office_I_orgcullture\n",
      "SATSF_office_J_knowledgeshare\n",
      "SATSF_office_K_planet\n",
      "SATSF_facilitate_Home_1A_focus\n",
      "SATSF_facilitate_Home_1B_inpersoncollab\n",
      "SATSF_facilitate_Home_1C_virtualcollab\n",
      "SATSF_facilitate_Office_2A_focus\n",
      "SATSF_facilitate_Office_2B_inpersoncollab\n",
      "SATSF_facilitate_Office_2C_virtualcollab\n",
      "SATSF_facilitate_HomeTech_3A_virtualcollab\n",
      "SATSF_facilitate_HomeTech_3B_inpersoncollab\n",
      "SATSF_facilitate_HomeTech_3C_virtualcollab\n",
      "SATSF_facilitate_OfficeTech_4A_virtualcollab\n",
      "SATSF_facilitate_OfficeTech_4B_inpersoncollab\n",
      "SATSF_facilitate_OfficeTech_4C_virtualcollab\n",
      "WP_Featr_office_A_community\n",
      "WP_Featr_office_B_designexcellence\n",
      "WP_Featr_office_C_pride\n",
      "WP_Featr_office_D_expressme\n",
      "WP_Featr_office_E_control\n",
      "WP_Featr_office_F_wellbeing\n",
      "WP_Featr_office_G_myfamily\n",
      "WP_Featr_office_H_customers\n",
      "WP_Featr_office_I_oegculture\n",
      "WP_Featr_office_J_knowledgeshare\n",
      "WP_Featr_office_K_planet\n",
      "Etc1_WLB_improved\n",
      "Etc2_chooseWFH\n",
      "Etc3_no_workstation\n",
      "Etc4_justlaptop\n",
      "Etc5_teamclose\n",
      "Etc6_connected\n",
      "Etc7_priorities\n",
      "Etc8_WFK_efffective\n",
      "OBSV_PreC_WFH_Days_Wk\n",
      "DEMO_Tenure_PreC_employee\n",
      "PREF_WFK_rate_home\n",
      "PostC_impact_shift_A_focus\n",
      "PostC_impact_shift_B_productive\n",
      "PostC_impact_shift_C_collab\n",
      "PostC_impact_shift_F_colleagueaccess\n",
      "PostC_impact_shift_G_teammeetings\n",
      "PostC_impact_shift_H_social\n",
      "PostC_impact_shift_I_managersconnect\n",
      "PostC_impact_shift_J_client\n",
      "PostC_impact_shift_K_enjoy\n",
      "DECSN_factors_A_noinpersonmtgs\n",
      "DECSN_factors_B_healthwellness\n",
      "DECSN_factors_C_WrkLifeSep\n",
      "DECSN_factors_D_safety\n",
      "OBSV_Now_WrkTimeA_Indiv_fract_vCollab\n",
      "OBSV_PreC_meetingsize0ffice_D_10plus\n",
      "PREF_space_B_inperson_collab\n",
      "PREF_space_C_videoconf\n",
      "PREF_space_D_impromptu\n",
      "PREF_space_E_recharge\n",
      "PREF_space_F_accessible\n",
      "PREF_space_G_firstarrive\n"
     ]
    }
   ],
   "source": [
    "org5 = data[data.DEMO_Org == 'Org 5']"
   ]
  },
  {
   "cell_type": "code",
   "execution_count": null,
   "id": "8e4f3e4d",
   "metadata": {},
   "outputs": [],
   "source": []
  }
 ],
 "metadata": {
  "kernelspec": {
   "display_name": "Python 3 (ipykernel)",
   "language": "python",
   "name": "python3"
  },
  "language_info": {
   "codemirror_mode": {
    "name": "ipython",
    "version": 3
   },
   "file_extension": ".py",
   "mimetype": "text/x-python",
   "name": "python",
   "nbconvert_exporter": "python",
   "pygments_lexer": "ipython3",
   "version": "3.11.5"
  }
 },
 "nbformat": 4,
 "nbformat_minor": 5
}
