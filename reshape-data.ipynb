{
 "cells": [
  {
   "cell_type": "code",
   "execution_count": 2,
   "id": "99bf7277",
   "metadata": {},
   "outputs": [],
   "source": [
    "import pandas as pd\n",
    "import numpy as np "
   ]
  },
  {
   "cell_type": "code",
   "execution_count": 202,
   "id": "788fa307",
   "metadata": {},
   "outputs": [],
   "source": [
    "update1 = {\n",
    "    \"Very unimportant\":1, \n",
    "    \"Unimportant\":2, \n",
    "    \"Neutral\":3, \n",
    "    \"Important\":4, \n",
    "    \"Very important\":5\n",
    "} \n",
    "update2 = {\n",
    "    'Very unsatisfied':1,\n",
    "    'Very dissatisfied':1,\n",
    "    'Unsatisfied':2, \n",
    "    'Dissatisfied':2,\n",
    "    'Neutral':3, \n",
    "    'Satisfied':4, \n",
    "    'Very satisfied':5\n",
    "} \n",
    "update3 = {\n",
    "    'Strongly disagree':1, \n",
    "    'Disagree':2, \n",
    "    'Neutral':3, \n",
    "    'Agree':4, \n",
    "    'Strongly agree':5 \n",
    "}"
   ]
  },
  {
   "cell_type": "code",
   "execution_count": 4,
   "id": "a49abb06",
   "metadata": {},
   "outputs": [],
   "source": [
    "data = pd.read_csv(\"WPA_DataCase_2024.csv\")"
   ]
  },
  {
   "cell_type": "code",
   "execution_count": 7,
   "id": "dff0d1a9",
   "metadata": {},
   "outputs": [],
   "source": [
    "u = pd.read_excel(\"DataDictionary.xlsx\", sheet_name=\"Org1_\")"
   ]
  },
  {
   "cell_type": "code",
   "execution_count": 8,
   "id": "c96ee6f3",
   "metadata": {},
   "outputs": [
    {
     "data": {
      "text/html": [
       "<div>\n",
       "<style scoped>\n",
       "    .dataframe tbody tr th:only-of-type {\n",
       "        vertical-align: middle;\n",
       "    }\n",
       "\n",
       "    .dataframe tbody tr th {\n",
       "        vertical-align: top;\n",
       "    }\n",
       "\n",
       "    .dataframe thead th {\n",
       "        text-align: right;\n",
       "    }\n",
       "</style>\n",
       "<table border=\"1\" class=\"dataframe\">\n",
       "  <thead>\n",
       "    <tr style=\"text-align: right;\">\n",
       "      <th></th>\n",
       "      <th>Variable Type</th>\n",
       "      <th>Variable Name - Updated</th>\n",
       "      <th>Variable Name</th>\n",
       "      <th>Variable Type.1</th>\n",
       "      <th>Variable Name - Updated.1</th>\n",
       "      <th>Variable Name.1</th>\n",
       "      <th>Variable Name - Updated.2</th>\n",
       "      <th>Question Text</th>\n",
       "      <th>Question Details</th>\n",
       "      <th>Responses</th>\n",
       "      <th>Class</th>\n",
       "      <th>Recode to</th>\n",
       "    </tr>\n",
       "  </thead>\n",
       "  <tbody>\n",
       "    <tr>\n",
       "      <th>0</th>\n",
       "      <td>Demographic</td>\n",
       "      <td>Department</td>\n",
       "      <td>DEMO_Dept</td>\n",
       "      <td>Demographic</td>\n",
       "      <td>Department</td>\n",
       "      <td>DEMO_Dept</td>\n",
       "      <td>Department</td>\n",
       "      <td>Department / Job Function</td>\n",
       "      <td>NaN</td>\n",
       "      <td>factor</td>\n",
       "      <td>factor (17)</td>\n",
       "      <td>NaN</td>\n",
       "    </tr>\n",
       "    <tr>\n",
       "      <th>1</th>\n",
       "      <td>Demographic</td>\n",
       "      <td>Remote Meetings</td>\n",
       "      <td>DEMO_meeting_remote</td>\n",
       "      <td>Demographic</td>\n",
       "      <td>Remote Meetings</td>\n",
       "      <td>DEMO_meeting_remote</td>\n",
       "      <td>Remote Meetings</td>\n",
       "      <td>Do you have meetings or work that are not able...</td>\n",
       "      <td>NaN</td>\n",
       "      <td>{Yes:No}</td>\n",
       "      <td>logical</td>\n",
       "      <td>NaN</td>\n",
       "    </tr>\n",
       "    <tr>\n",
       "      <th>2</th>\n",
       "      <td>Demographic</td>\n",
       "      <td>Organization</td>\n",
       "      <td>DEMO_Org</td>\n",
       "      <td>Demographic</td>\n",
       "      <td>Organization</td>\n",
       "      <td>DEMO_Org</td>\n",
       "      <td>Organization</td>\n",
       "      <td>Org</td>\n",
       "      <td>NaN</td>\n",
       "      <td>factor</td>\n",
       "      <td>factor (5)</td>\n",
       "      <td>NaN</td>\n",
       "    </tr>\n",
       "    <tr>\n",
       "      <th>3</th>\n",
       "      <td>Demographic</td>\n",
       "      <td>Pre-Covid Tenure</td>\n",
       "      <td>DEMO_Tenure_PreC_employee</td>\n",
       "      <td>Demographic</td>\n",
       "      <td>Pre-Covid Tenure</td>\n",
       "      <td>DEMO_Tenure_PreC_employee</td>\n",
       "      <td>Pre-Covid Tenure</td>\n",
       "      <td>Did you work here pre-COVID?</td>\n",
       "      <td>NaN</td>\n",
       "      <td>{Yes, No}</td>\n",
       "      <td>logical</td>\n",
       "      <td>NaN</td>\n",
       "    </tr>\n",
       "    <tr>\n",
       "      <th>4</th>\n",
       "      <td>NaN</td>\n",
       "      <td>ignore - repetitive of focused work</td>\n",
       "      <td>OBSV_Now_WrkTimeA_Indiv_fract_vCollab</td>\n",
       "      <td>NaN</td>\n",
       "      <td>ignore - repetitive of focused work</td>\n",
       "      <td>OBSV_Now_WrkTimeA_Indiv_fract_vCollab</td>\n",
       "      <td>ignore - repetitive of focused work</td>\n",
       "      <td>In a typical week, about what percentage of ti...</td>\n",
       "      <td>Individual, heads-down work</td>\n",
       "      <td>fraction of work time {0:1}</td>\n",
       "      <td>numeric</td>\n",
       "      <td>NaN</td>\n",
       "    </tr>\n",
       "  </tbody>\n",
       "</table>\n",
       "</div>"
      ],
      "text/plain": [
       "  Variable Type              Variable Name - Updated  \\\n",
       "0   Demographic                           Department   \n",
       "1   Demographic                      Remote Meetings   \n",
       "2   Demographic                         Organization   \n",
       "3   Demographic                     Pre-Covid Tenure   \n",
       "4           NaN  ignore - repetitive of focused work   \n",
       "\n",
       "                           Variable Name Variable Type.1  \\\n",
       "0                              DEMO_Dept     Demographic   \n",
       "1                    DEMO_meeting_remote     Demographic   \n",
       "2                               DEMO_Org     Demographic   \n",
       "3              DEMO_Tenure_PreC_employee     Demographic   \n",
       "4  OBSV_Now_WrkTimeA_Indiv_fract_vCollab             NaN   \n",
       "\n",
       "             Variable Name - Updated.1                        Variable Name.1  \\\n",
       "0                           Department                              DEMO_Dept   \n",
       "1                      Remote Meetings                    DEMO_meeting_remote   \n",
       "2                         Organization                               DEMO_Org   \n",
       "3                     Pre-Covid Tenure              DEMO_Tenure_PreC_employee   \n",
       "4  ignore - repetitive of focused work  OBSV_Now_WrkTimeA_Indiv_fract_vCollab   \n",
       "\n",
       "             Variable Name - Updated.2  \\\n",
       "0                           Department   \n",
       "1                      Remote Meetings   \n",
       "2                         Organization   \n",
       "3                     Pre-Covid Tenure   \n",
       "4  ignore - repetitive of focused work   \n",
       "\n",
       "                                       Question Text  \\\n",
       "0                          Department / Job Function   \n",
       "1  Do you have meetings or work that are not able...   \n",
       "2                                                Org   \n",
       "3                       Did you work here pre-COVID?   \n",
       "4  In a typical week, about what percentage of ti...   \n",
       "\n",
       "              Question Details                    Responses        Class  \\\n",
       "0                          NaN                       factor  factor (17)   \n",
       "1                          NaN                     {Yes:No}      logical   \n",
       "2                          NaN                       factor   factor (5)   \n",
       "3                          NaN                    {Yes, No}      logical   \n",
       "4  Individual, heads-down work  fraction of work time {0:1}      numeric   \n",
       "\n",
       "   Recode to  \n",
       "0        NaN  \n",
       "1        NaN  \n",
       "2        NaN  \n",
       "3        NaN  \n",
       "4        NaN  "
      ]
     },
     "execution_count": 8,
     "metadata": {},
     "output_type": "execute_result"
    }
   ],
   "source": [
    "u.head()"
   ]
  },
  {
   "cell_type": "code",
   "execution_count": 9,
   "id": "09cc8591",
   "metadata": {},
   "outputs": [],
   "source": [
    "updated_var = u['Variable Name - Updated'].unique()"
   ]
  },
  {
   "cell_type": "code",
   "execution_count": 10,
   "id": "5ca181b9",
   "metadata": {},
   "outputs": [
    {
     "data": {
      "text/plain": [
       "Variable Name - Updated\n",
       "Office Satisfaction                               21\n",
       "Recommendations Questions                         17\n",
       "Pre-Covid Productivity Loss                       12\n",
       "Workplace Features Importance                     10\n",
       "Workplace Preference                               7\n",
       "Focused Work Environmental Preferences             7\n",
       "Collaborative Work Enivornmental Preferences       7\n",
       "Ignore - too detailed                              6\n",
       "Work Location Deciding Factors                     6\n",
       "Distributed Work Transition Difficulty             6\n",
       "Repetitive, can remove                             5\n",
       "Pre-Covid Time Spent Remote                        4\n",
       "Pre-Covid Time Spent in Office                     3\n",
       "Pre-Covid Meeting Preference                       2\n",
       "Pre Covid In Person Collab Work (1-3 people)       2\n",
       "Pre-Covid WFH Days                                 1\n",
       "Remote Meetings                                    1\n",
       "Pre Covid In Person Collab Work (4-10+ people)     1\n",
       "Pre-Covid Remote Meetings                          1\n",
       "Pre-Covid Hybrid Meetings                          1\n",
       "Pre-Covid In Person Meetings                       1\n",
       "ignore - repetitive of focused work                1\n",
       "Pre-Covid Tenure                                   1\n",
       "WFH Preference Rate                                1\n",
       "Organization                                       1\n",
       "Department                                         1\n",
       "Name: count, dtype: int64"
      ]
     },
     "execution_count": 10,
     "metadata": {},
     "output_type": "execute_result"
    }
   ],
   "source": [
    "u['Variable Name - Updated'].value_counts()"
   ]
  },
  {
   "cell_type": "code",
   "execution_count": 138,
   "id": "d55549cf",
   "metadata": {},
   "outputs": [],
   "source": [
    "to_update = ['Recommendations Questions','Office Satisfaction','Workplace Features Importance']"
   ]
  },
  {
   "cell_type": "code",
   "execution_count": 139,
   "id": "6376f84c",
   "metadata": {},
   "outputs": [
    {
     "name": "stdout",
     "output_type": "stream",
     "text": [
      "PREF_features_A_chair\n",
      "PREF_features_B_proximitry\n",
      "PREF_features_C_concentration\n",
      "PREF_features_D_privacy\n",
      "PREF_features_E_noise\n",
      "PREF_features_F_daylight\n",
      "PREF_features_G_light\n",
      "PREF_features_H_nature\n",
      "PREF_features_I_Sychro\n",
      "PREF_features_K_temp\n",
      "PREF_features_L_clean\n",
      "PREF_features_M_lockers\n",
      "PREF_features_N_events\n",
      "PREF_features_O_food\n",
      "PREF_features_R_gym\n",
      "PREF_features_S_relax\n",
      "PREF_features_T_greenspace\n",
      "SATSF_CollabSpace_A_Tech\n",
      "SATSF_CollabSpace_C_CollabTools\n",
      "SATSF_CollabSpace_D_furniture\n",
      "SATSF_CollabSpace_E_seating\n",
      "SATSF_CollabSpace_F_naturallight\n",
      "SATSF_facilitate_Office_2A_focus\n",
      "SATSF_facilitate_Office_2B_inpersoncollab\n",
      "SATSF_facilitate_Office_2C_virtualcollab\n",
      "SATSF_facilitate_OfficeTech_4A_virtualcollab\n",
      "SATSF_facilitate_OfficeTech_4B_inpersoncollab\n",
      "SATSF_facilitate_OfficeTech_4C_virtualcollab\n",
      "SATSF_office_A_community\n",
      "SATSF_office_C_pride\n",
      "SATSF_office_D_expressme\n",
      "SATSF_office_E_control\n",
      "SATSF_office_F_wellbeing\n",
      "SATSF_office_G_myfamily\n",
      "SATSF_office_H_customers\n",
      "SATSF_office_I_orgcullture\n",
      "SATSF_office_J_knowledgeshare\n",
      "SATSF_office_K_planet\n",
      "WP_Featr_office_A_community\n",
      "WP_Featr_office_C_pride\n",
      "WP_Featr_office_D_expressme\n",
      "WP_Featr_office_E_control\n",
      "WP_Featr_office_F_wellbeing\n",
      "WP_Featr_office_G_myfamily\n",
      "WP_Featr_office_H_customers\n",
      "WP_Featr_office_I_oegculture\n",
      "WP_Featr_office_J_knowledgeshare\n",
      "WP_Featr_office_K_planet\n"
     ]
    }
   ],
   "source": [
    "for t in to_update:\n",
    "    cols = u[u['Variable Name - Updated'] == t]['Variable Name'] \n",
    "    for col in cols: \n",
    "        if t == to_update[0] or t == to_update[2]:\n",
    "                data = data.replace({col:update1})\n",
    "         \n",
    "        else: \n",
    "            data = data.replace({col:update1}) "
   ]
  },
  {
   "cell_type": "code",
   "execution_count": 27,
   "id": "4f68a3ec",
   "metadata": {},
   "outputs": [
    {
     "data": {
      "text/html": [
       "<div>\n",
       "<style scoped>\n",
       "    .dataframe tbody tr th:only-of-type {\n",
       "        vertical-align: middle;\n",
       "    }\n",
       "\n",
       "    .dataframe tbody tr th {\n",
       "        vertical-align: top;\n",
       "    }\n",
       "\n",
       "    .dataframe thead th {\n",
       "        text-align: right;\n",
       "    }\n",
       "</style>\n",
       "<table border=\"1\" class=\"dataframe\">\n",
       "  <thead>\n",
       "    <tr style=\"text-align: right;\">\n",
       "      <th></th>\n",
       "      <th>DEMO_Org</th>\n",
       "      <th>DEMO_meeting_remote</th>\n",
       "      <th>DEMO_Dept</th>\n",
       "      <th>OBSV_PreC_Location_A_primryoffice</th>\n",
       "      <th>OBSV_PreC_Location_B_officeother</th>\n",
       "      <th>OBSV_PreC_Location_C_client</th>\n",
       "      <th>OBSV_PreC_Location_D_WFH</th>\n",
       "      <th>OBSV_PreC_Location_E_publicspace</th>\n",
       "      <th>OBSV_PreC_Location_F_transit</th>\n",
       "      <th>OBSV_PreC_Location_G_other</th>\n",
       "      <th>...</th>\n",
       "      <th>DECSN_factors_C_WrkLifeSep</th>\n",
       "      <th>DECSN_factors_D_safety</th>\n",
       "      <th>OBSV_Now_WrkTimeA_Indiv_fract_vCollab</th>\n",
       "      <th>OBSV_PreC_meetingsize0ffice_D_10plus</th>\n",
       "      <th>PREF_space_B_inperson_collab</th>\n",
       "      <th>PREF_space_C_videoconf</th>\n",
       "      <th>PREF_space_D_impromptu</th>\n",
       "      <th>PREF_space_E_recharge</th>\n",
       "      <th>PREF_space_F_accessible</th>\n",
       "      <th>PREF_space_G_firstarrive</th>\n",
       "    </tr>\n",
       "  </thead>\n",
       "  <tbody>\n",
       "    <tr>\n",
       "      <th>0</th>\n",
       "      <td>Org 2</td>\n",
       "      <td>NaN</td>\n",
       "      <td>Accounting</td>\n",
       "      <td>0.8</td>\n",
       "      <td>NaN</td>\n",
       "      <td>NaN</td>\n",
       "      <td>0.2</td>\n",
       "      <td>NaN</td>\n",
       "      <td>NaN</td>\n",
       "      <td>NaN</td>\n",
       "      <td>...</td>\n",
       "      <td>4.0</td>\n",
       "      <td>2.5</td>\n",
       "      <td>0.600</td>\n",
       "      <td>NaN</td>\n",
       "      <td>Enclosed room (meeting room, phone room)</td>\n",
       "      <td>NaN</td>\n",
       "      <td>NaN</td>\n",
       "      <td>NaN</td>\n",
       "      <td>NaN</td>\n",
       "      <td>NaN</td>\n",
       "    </tr>\n",
       "    <tr>\n",
       "      <th>1</th>\n",
       "      <td>Org 2</td>\n",
       "      <td>NaN</td>\n",
       "      <td>Accounting</td>\n",
       "      <td>0.6</td>\n",
       "      <td>NaN</td>\n",
       "      <td>NaN</td>\n",
       "      <td>0.4</td>\n",
       "      <td>NaN</td>\n",
       "      <td>NaN</td>\n",
       "      <td>NaN</td>\n",
       "      <td>...</td>\n",
       "      <td>5.0</td>\n",
       "      <td>2.5</td>\n",
       "      <td>0.700</td>\n",
       "      <td>NaN</td>\n",
       "      <td>Workstation</td>\n",
       "      <td>NaN</td>\n",
       "      <td>NaN</td>\n",
       "      <td>NaN</td>\n",
       "      <td>NaN</td>\n",
       "      <td>NaN</td>\n",
       "    </tr>\n",
       "    <tr>\n",
       "      <th>2</th>\n",
       "      <td>Org 2</td>\n",
       "      <td>NaN</td>\n",
       "      <td>Accounting</td>\n",
       "      <td>0.6</td>\n",
       "      <td>NaN</td>\n",
       "      <td>NaN</td>\n",
       "      <td>0.4</td>\n",
       "      <td>NaN</td>\n",
       "      <td>NaN</td>\n",
       "      <td>NaN</td>\n",
       "      <td>...</td>\n",
       "      <td>NaN</td>\n",
       "      <td>NaN</td>\n",
       "      <td>0.750</td>\n",
       "      <td>NaN</td>\n",
       "      <td>Enclosed room (meeting room, phone room)</td>\n",
       "      <td>NaN</td>\n",
       "      <td>NaN</td>\n",
       "      <td>NaN</td>\n",
       "      <td>NaN</td>\n",
       "      <td>NaN</td>\n",
       "    </tr>\n",
       "    <tr>\n",
       "      <th>3</th>\n",
       "      <td>Org 2</td>\n",
       "      <td>NaN</td>\n",
       "      <td>Accounting</td>\n",
       "      <td>0.5</td>\n",
       "      <td>NaN</td>\n",
       "      <td>NaN</td>\n",
       "      <td>0.5</td>\n",
       "      <td>NaN</td>\n",
       "      <td>NaN</td>\n",
       "      <td>NaN</td>\n",
       "      <td>...</td>\n",
       "      <td>4.0</td>\n",
       "      <td>2.5</td>\n",
       "      <td>0.700</td>\n",
       "      <td>NaN</td>\n",
       "      <td>Enclosed room (meeting room, phone room)</td>\n",
       "      <td>NaN</td>\n",
       "      <td>NaN</td>\n",
       "      <td>NaN</td>\n",
       "      <td>NaN</td>\n",
       "      <td>NaN</td>\n",
       "    </tr>\n",
       "    <tr>\n",
       "      <th>4</th>\n",
       "      <td>Org 3</td>\n",
       "      <td>No</td>\n",
       "      <td>Accounting</td>\n",
       "      <td>NaN</td>\n",
       "      <td>NaN</td>\n",
       "      <td>NaN</td>\n",
       "      <td>NaN</td>\n",
       "      <td>NaN</td>\n",
       "      <td>NaN</td>\n",
       "      <td>NaN</td>\n",
       "      <td>...</td>\n",
       "      <td>4.0</td>\n",
       "      <td>NaN</td>\n",
       "      <td>0.875</td>\n",
       "      <td>NaN</td>\n",
       "      <td>Elsewhere in the building</td>\n",
       "      <td>Elsewhere in the building</td>\n",
       "      <td>Elsewhere in the building</td>\n",
       "      <td>Elsewhere in the building</td>\n",
       "      <td>Desk or office</td>\n",
       "      <td>Desk or office</td>\n",
       "    </tr>\n",
       "  </tbody>\n",
       "</table>\n",
       "<p>5 rows × 185 columns</p>\n",
       "</div>"
      ],
      "text/plain": [
       "  DEMO_Org DEMO_meeting_remote   DEMO_Dept  OBSV_PreC_Location_A_primryoffice  \\\n",
       "0    Org 2                 NaN  Accounting                                0.8   \n",
       "1    Org 2                 NaN  Accounting                                0.6   \n",
       "2    Org 2                 NaN  Accounting                                0.6   \n",
       "3    Org 2                 NaN  Accounting                                0.5   \n",
       "4    Org 3                  No  Accounting                                NaN   \n",
       "\n",
       "   OBSV_PreC_Location_B_officeother  OBSV_PreC_Location_C_client  \\\n",
       "0                               NaN                          NaN   \n",
       "1                               NaN                          NaN   \n",
       "2                               NaN                          NaN   \n",
       "3                               NaN                          NaN   \n",
       "4                               NaN                          NaN   \n",
       "\n",
       "   OBSV_PreC_Location_D_WFH  OBSV_PreC_Location_E_publicspace  \\\n",
       "0                       0.2                               NaN   \n",
       "1                       0.4                               NaN   \n",
       "2                       0.4                               NaN   \n",
       "3                       0.5                               NaN   \n",
       "4                       NaN                               NaN   \n",
       "\n",
       "   OBSV_PreC_Location_F_transit  OBSV_PreC_Location_G_other  ...  \\\n",
       "0                           NaN                         NaN  ...   \n",
       "1                           NaN                         NaN  ...   \n",
       "2                           NaN                         NaN  ...   \n",
       "3                           NaN                         NaN  ...   \n",
       "4                           NaN                         NaN  ...   \n",
       "\n",
       "   DECSN_factors_C_WrkLifeSep  DECSN_factors_D_safety  \\\n",
       "0                         4.0                     2.5   \n",
       "1                         5.0                     2.5   \n",
       "2                         NaN                     NaN   \n",
       "3                         4.0                     2.5   \n",
       "4                         4.0                     NaN   \n",
       "\n",
       "   OBSV_Now_WrkTimeA_Indiv_fract_vCollab  \\\n",
       "0                                  0.600   \n",
       "1                                  0.700   \n",
       "2                                  0.750   \n",
       "3                                  0.700   \n",
       "4                                  0.875   \n",
       "\n",
       "   OBSV_PreC_meetingsize0ffice_D_10plus  \\\n",
       "0                                   NaN   \n",
       "1                                   NaN   \n",
       "2                                   NaN   \n",
       "3                                   NaN   \n",
       "4                                   NaN   \n",
       "\n",
       "               PREF_space_B_inperson_collab     PREF_space_C_videoconf  \\\n",
       "0  Enclosed room (meeting room, phone room)                        NaN   \n",
       "1                               Workstation                        NaN   \n",
       "2  Enclosed room (meeting room, phone room)                        NaN   \n",
       "3  Enclosed room (meeting room, phone room)                        NaN   \n",
       "4                 Elsewhere in the building  Elsewhere in the building   \n",
       "\n",
       "      PREF_space_D_impromptu      PREF_space_E_recharge  \\\n",
       "0                        NaN                        NaN   \n",
       "1                        NaN                        NaN   \n",
       "2                        NaN                        NaN   \n",
       "3                        NaN                        NaN   \n",
       "4  Elsewhere in the building  Elsewhere in the building   \n",
       "\n",
       "   PREF_space_F_accessible  PREF_space_G_firstarrive  \n",
       "0                      NaN                       NaN  \n",
       "1                      NaN                       NaN  \n",
       "2                      NaN                       NaN  \n",
       "3                      NaN                       NaN  \n",
       "4           Desk or office            Desk or office  \n",
       "\n",
       "[5 rows x 185 columns]"
      ]
     },
     "execution_count": 27,
     "metadata": {},
     "output_type": "execute_result"
    }
   ],
   "source": [
    "data.head()"
   ]
  },
  {
   "cell_type": "code",
   "execution_count": 28,
   "id": "6b1eb3a7",
   "metadata": {},
   "outputs": [
    {
     "data": {
      "text/plain": [
       "PREF_features_I_Sychro\n",
       "3.0    38\n",
       "2.0    18\n",
       "1.0    14\n",
       "4.0    10\n",
       "5.0     4\n",
       "Name: count, dtype: int64"
      ]
     },
     "execution_count": 28,
     "metadata": {},
     "output_type": "execute_result"
    }
   ],
   "source": [
    "data['PREF_features_I_Sychro'].value_counts()"
   ]
  },
  {
   "cell_type": "code",
   "execution_count": 184,
   "id": "f17eadb0",
   "metadata": {},
   "outputs": [
    {
     "data": {
      "text/plain": [
       "Index(['Variable', 'Variable Name - Updated', 'Variable name', 'Category',\n",
       "       'Question text', 'Question details', 'Responses', 'Class', 'Recode to'],\n",
       "      dtype='object')"
      ]
     },
     "execution_count": 184,
     "metadata": {},
     "output_type": "execute_result"
    }
   ],
   "source": [
    "u = pd.read_excel(\"DataDictionary.xlsx\", sheet_name=\"Org 5\") \n",
    "u.columns"
   ]
  },
  {
   "cell_type": "code",
   "execution_count": 162,
   "id": "34c7f517",
   "metadata": {},
   "outputs": [],
   "source": [
    "updated_var = u['Variable Name - Updated'].unique() "
   ]
  },
  {
   "cell_type": "code",
   "execution_count": 164,
   "id": "4579684d",
   "metadata": {},
   "outputs": [
    {
     "data": {
      "text/plain": [
       "array(['Organization', 'Remote Meetings', 'Department',\n",
       "       'Pre-Covid In Person Meetings', 'Pre-Covid Hybrid Meetings',\n",
       "       'Pre-Covid Remote Meetings',\n",
       "       'Pre Covid In Person Collab Work (1-3 people)',\n",
       "       'Pre Covid In Person Collab Work (4-10+ people)',\n",
       "       'Pre-Covid Meeting Preference', 'Pre-Covid Productivity Loss',\n",
       "       'Distributed Work Transition Difficulty',\n",
       "       'Technology Decision Factors',\n",
       "       'Office Environment Decision Factors',\n",
       "       'Community & Support Decision Factors',\n",
       "       'Work-Life Balance Decision Factors',\n",
       "       'Focused Work Environmental Preferences',\n",
       "       'Collaborative Work Enivornmental Preferences',\n",
       "       'Recommendations Questions', 'Work Satisf Features',\n",
       "       'Workplace Features Importance', 'Pre-Covid WFH Days',\n",
       "       'Office Satisfaction', 'Home Satisfaction',\n",
       "       'Office Satisfaction 1', 'Remote Work Indicators',\n",
       "       'WFH Preference Rate', 'Work Location Deciding Factors',\n",
       "       'Workplace Preference', nan, 2, 16], dtype=object)"
      ]
     },
     "execution_count": 164,
     "metadata": {},
     "output_type": "execute_result"
    }
   ],
   "source": [
    "updated_var "
   ]
  },
  {
   "cell_type": "code",
   "execution_count": 173,
   "id": "ad20882b",
   "metadata": {},
   "outputs": [],
   "source": [
    "to_update = ['Office Satisfaction','Office Satisfaction 1','Remote Work Indicators']"
   ]
  },
  {
   "cell_type": "code",
   "execution_count": 166,
   "id": "527cfc88",
   "metadata": {},
   "outputs": [
    {
     "data": {
      "text/plain": [
       "Index(['Variable Type', 'Variable Name - Updated', 'Variable Name', 'Category',\n",
       "       'Question Text', 'Question Details', 'Responses', 'Class', 'Recode to'],\n",
       "      dtype='object')"
      ]
     },
     "execution_count": 166,
     "metadata": {},
     "output_type": "execute_result"
    }
   ],
   "source": [
    "u.columns"
   ]
  },
  {
   "cell_type": "code",
   "execution_count": 186,
   "id": "85e45473",
   "metadata": {},
   "outputs": [],
   "source": [
    "for t in to_update:\n",
    "    cols = u[u['Variable Name - Updated'] == t]['Variable name'] \n",
    "    for col in cols: \n",
    "        if t == to_update[2]:\n",
    "            data = data.replace({col:update3})\n",
    "        else:\n",
    "            data = data.replace({col:update2})"
   ]
  },
  {
   "cell_type": "code",
   "execution_count": 125,
   "id": "209c4a2b",
   "metadata": {},
   "outputs": [],
   "source": [
    "sheets = ['Org1_','Org 2','Org 3','Org 4','Org 5'] \n",
    "mapping = {}"
   ]
  },
  {
   "cell_type": "code",
   "execution_count": 126,
   "id": "f3d0ad88",
   "metadata": {},
   "outputs": [],
   "source": [
    "for sheet in sheets:\n",
    "    u = pd.read_excel(\"DataDictionary.xlsx\", sheet_name=sheet) \n",
    "    updatedNames = u['Variable Name - Updated'].unique()  \n",
    "    for up in updatedNames: \n",
    "        if sheet == 'Org 4' or sheet == 'Org 2': \n",
    "            cols = u[u['Variable Name - Updated'] == up]['Variable name '].values.tolist()\n",
    "        elif sheet == 'Org 5' :\n",
    "            cols = u[u['Variable Name - Updated'] == up]['Variable name'].values.tolist()\n",
    "        else:\n",
    "            cols = u[u['Variable Name - Updated'] == up]['Variable Name'].values.tolist()\n",
    "        \n",
    "        for col in cols: \n",
    "            if up in mapping.keys(): \n",
    "                mapping[up].append(col) \n",
    "            else: \n",
    "                mapping[up] = [col] "
   ]
  },
  {
   "cell_type": "code",
   "execution_count": 205,
   "id": "23e41e8b",
   "metadata": {},
   "outputs": [],
   "source": [
    "for col in mapping['Office Satisfaction 1']:\n",
    "    data = data.replace({col:update2})"
   ]
  },
  {
   "cell_type": "code",
   "execution_count": 211,
   "id": "57c2037b",
   "metadata": {},
   "outputs": [
    {
     "data": {
      "text/plain": [
       "0\n",
       "3.0    5\n",
       "2.0    2\n",
       "Name: count, dtype: int64"
      ]
     },
     "execution_count": 211,
     "metadata": {},
     "output_type": "execute_result"
    }
   ],
   "source": [
    "data[list(mapping['Office Satisfaction'])].iloc[0,:].value_counts()"
   ]
  },
  {
   "cell_type": "code",
   "execution_count": 129,
   "id": "8f476700",
   "metadata": {
    "scrolled": true
   },
   "outputs": [
    {
     "name": "stdout",
     "output_type": "stream",
     "text": [
      "Department\n",
      "Remote Meetings\n",
      "Organization\n",
      "Pre-Covid Tenure\n",
      "ignore - repetitive of focused work\n",
      "Pre-Covid Productivity Loss\n",
      "Pre-Covid Time Spent in Office\n",
      "Pre-Covid Time Spent Remote\n",
      "Pre-Covid In Person Meetings\n",
      "Pre-Covid Hybrid Meetings\n",
      "Pre-Covid Remote Meetings\n",
      "Pre Covid In Person Collab Work (1-3 people)\n",
      "Pre Covid In Person Collab Work (4-10+ people)\n",
      "Pre-Covid Meeting Preference\n",
      "Pre-Covid WFH Days\n",
      "Ignore - too detailed\n",
      "Distributed Work Transition Difficulty\n",
      "Work Location Deciding Factors\n",
      "Repetitive, can remove\n",
      "Collaborative Work Enivornmental Preferences\n",
      "Focused Work Environmental Preferences\n",
      "Recommendations Questions\n",
      "Workplace Preference\n",
      "WFH Preference Rate\n",
      "Office Satisfaction\n",
      "Workplace Features Importance\n",
      "Pre Covid In Person Collab Work \n",
      "(1-3 people; 4-10+)\n",
      "Current In Person Collab Work (4-10+ people)\n",
      "Work-Life Balance Decision Factors\n",
      "Technology Decision Factors\n",
      "Community & Support Decision Factors\n",
      "Office Environment Decision Factors\n",
      "Work Satisf Features\n",
      "Home Satisfaction\n",
      "Office Satisfaction 1\n",
      "Remote Work Indicators\n",
      "2\n",
      "16\n",
      "Pre Covid In Person Collab Work\n",
      "Pre Covid Remote Collab Work\n",
      "Current In Person Collab Work \n",
      "(1-3 people; 4-10+)\n"
     ]
    }
   ],
   "source": [
    "for key in mapping.keys():\n",
    "    print(key)"
   ]
  },
  {
   "cell_type": "code",
   "execution_count": 130,
   "id": "5be02b7f",
   "metadata": {},
   "outputs": [
    {
     "name": "stdout",
     "output_type": "stream",
     "text": [
      "<class 'pandas.core.frame.DataFrame'>\n",
      "RangeIndex: 1384 entries, 0 to 1383\n",
      "Columns: 185 entries, DEMO_Org to PREF_space_G_firstarrive\n",
      "dtypes: float64(119), int64(7), object(59)\n",
      "memory usage: 2.0+ MB\n"
     ]
    }
   ],
   "source": [
    "data.info()"
   ]
  },
  {
   "cell_type": "code",
   "execution_count": 131,
   "id": "e8f7f1fd",
   "metadata": {},
   "outputs": [],
   "source": []
  },
  {
   "cell_type": "code",
   "execution_count": 169,
   "id": "e4cac9d5",
   "metadata": {},
   "outputs": [],
   "source": [
    "more_update = {\n",
    "    \"Enclosed room (meeting room, phone room)\":0, \n",
    "    \"Workstation\":0,\n",
    "    \"Home\":1,\n",
    "    \"Desk or office\":0,\n",
    "    \"Semi-enclosed space (nook, booth)\":0,\n",
    "    \"Open space (cafe, lounge)\":1,\n",
    "    \"Sit-stand workstation\":0,\n",
    "    \"Anywhere outside the office building\":1, \n",
    "    \"Elsewhere in the building\":0\n",
    "    \n",
    "} \n",
    "\n",
    "for col in mapping['Workplace Preference']:\n",
    "    data = data.replace({col:more_update}) "
   ]
  },
  {
   "cell_type": "code",
   "execution_count": 212,
   "id": "0f624a1d",
   "metadata": {},
   "outputs": [],
   "source": [
    "data.to_excel(\"data.xlsx\")"
   ]
  },
  {
   "cell_type": "code",
   "execution_count": 213,
   "id": "cee9929c",
   "metadata": {},
   "outputs": [],
   "source": [
    "data = data.replace({\n",
    "    \"PREF_features_Q_kitchen\":update1\n",
    "})"
   ]
  },
  {
   "cell_type": "code",
   "execution_count": 215,
   "id": "f45b6f26",
   "metadata": {},
   "outputs": [
    {
     "data": {
      "text/plain": [
       "PREF_features_Q_kitchen\n",
       "1.0    131\n",
       "2.0     44\n",
       "3.0     36\n",
       "4.0     27\n",
       "5.0      5\n",
       "Name: count, dtype: int64"
      ]
     },
     "execution_count": 215,
     "metadata": {},
     "output_type": "execute_result"
    }
   ],
   "source": [
    "data[\"PREF_features_Q_kitchen\"].value_counts()"
   ]
  },
  {
   "cell_type": "code",
   "execution_count": 216,
   "id": "69ad66c3",
   "metadata": {},
   "outputs": [],
   "source": [
    "data.to_excel(\"data.xlsx\")"
   ]
  },
  {
   "cell_type": "code",
   "execution_count": null,
   "id": "561c3dc8",
   "metadata": {},
   "outputs": [],
   "source": []
  }
 ],
 "metadata": {
  "kernelspec": {
   "display_name": "Python 3 (ipykernel)",
   "language": "python",
   "name": "python3"
  },
  "language_info": {
   "codemirror_mode": {
    "name": "ipython",
    "version": 3
   },
   "file_extension": ".py",
   "mimetype": "text/x-python",
   "name": "python",
   "nbconvert_exporter": "python",
   "pygments_lexer": "ipython3",
   "version": "3.11.5"
  }
 },
 "nbformat": 4,
 "nbformat_minor": 5
}
