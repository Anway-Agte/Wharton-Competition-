{
 "cells": [
  {
   "cell_type": "code",
   "execution_count": 1,
   "id": "68251260",
   "metadata": {},
   "outputs": [],
   "source": [
    "import pandas as pd \n",
    "import numpy as np"
   ]
  },
  {
   "cell_type": "code",
   "execution_count": 2,
   "id": "cba4197c",
   "metadata": {},
   "outputs": [],
   "source": [
    "data = pd.read_csv(\"WPA_DataCase_2024.csv\")"
   ]
  },
  {
   "cell_type": "code",
   "execution_count": 3,
   "id": "c629c221",
   "metadata": {},
   "outputs": [],
   "source": [
    "orgs = data.DEMO_Org.unique()"
   ]
  },
  {
   "cell_type": "code",
   "execution_count": 4,
   "id": "433c97f7",
   "metadata": {},
   "outputs": [],
   "source": [
    "datas = {}"
   ]
  },
  {
   "cell_type": "code",
   "execution_count": 6,
   "id": "6db06d4f",
   "metadata": {},
   "outputs": [],
   "source": [
    "for org in orgs:\n",
    "    datas[org] = data[data.DEMO_Org == org]"
   ]
  },
  {
   "cell_type": "code",
   "execution_count": null,
   "id": "9ce537bc",
   "metadata": {},
   "outputs": [],
   "source": [
    "for org in orgs:\n",
    "    datas[org].to_excel(f\"{org}.xlsx\")"
   ]
  },
  {
   "cell_type": "code",
   "execution_count": null,
   "id": "01ac2362",
   "metadata": {},
   "outputs": [],
   "source": []
  }
 ],
 "metadata": {
  "kernelspec": {
   "display_name": "Python 3 (ipykernel)",
   "language": "python",
   "name": "python3"
  },
  "language_info": {
   "codemirror_mode": {
    "name": "ipython",
    "version": 3
   },
   "file_extension": ".py",
   "mimetype": "text/x-python",
   "name": "python",
   "nbconvert_exporter": "python",
   "pygments_lexer": "ipython3",
   "version": "3.11.5"
  }
 },
 "nbformat": 4,
 "nbformat_minor": 5
}
