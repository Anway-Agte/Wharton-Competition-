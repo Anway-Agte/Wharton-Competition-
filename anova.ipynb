{
 "cells": [
  {
   "cell_type": "code",
   "execution_count": 1,
   "id": "57bbf768",
   "metadata": {},
   "outputs": [],
   "source": [
    "import pandas as pd \n",
    "import numpy as np"
   ]
  },
  {
   "cell_type": "code",
   "execution_count": 2,
   "id": "dfd413cb",
   "metadata": {},
   "outputs": [],
   "source": [
    "data = pd.read_excel(\"org134-composite.xlsx\")"
   ]
  },
  {
   "cell_type": "code",
   "execution_count": 3,
   "id": "d4627abd",
   "metadata": {},
   "outputs": [
    {
     "data": {
      "text/plain": [
       "Index(['Unnamed: 0', 'Job Family', 'DEMO_Dept', 'DEMO_Org',\n",
       "       'PostCovid_Collab_Work', 'Collaborative Work Enivornmental Preferences',\n",
       "       'Current Focused Work ', 'Focused Work Environmental Preferences',\n",
       "       'Office Satisfaction', 'Pre Covid In Person Collab Work (1-3 people)',\n",
       "       'Pre Covid In Person Collab Work (4-10+ people)',\n",
       "       'Pre-Covid Hybrid Meetings', 'Pre-Covid In Person Meetings',\n",
       "       'Pre-Covid Remote Meetings', 'Future Workplace Features Preference',\n",
       "       'Environment Productivity Impact', 'Workplace Tech Features Importance',\n",
       "       'Workplace Preference', 'Office Workspace Preference'],\n",
       "      dtype='object')"
      ]
     },
     "execution_count": 3,
     "metadata": {},
     "output_type": "execute_result"
    }
   ],
   "source": [
    "from scipy.stats import f_oneway\n",
    "\n",
    "data.columns"
   ]
  },
  {
   "cell_type": "code",
   "execution_count": 4,
   "id": "c9ffe148",
   "metadata": {},
   "outputs": [],
   "source": [
    "from sklearn.preprocessing import LabelEncoder\n",
    "\n",
    "enc = LabelEncoder() \n",
    "\n",
    "data[\"Job Family\"] = enc.fit_transform(data[\"Job Family\"])\n"
   ]
  },
  {
   "cell_type": "code",
   "execution_count": 5,
   "id": "8e490c6f",
   "metadata": {},
   "outputs": [
    {
     "data": {
      "text/plain": [
       "F_onewayResult(statistic=460.1161989702946, pvalue=1.1291018771459165e-88)"
      ]
     },
     "execution_count": 5,
     "metadata": {},
     "output_type": "execute_result"
    }
   ],
   "source": [
    "f_oneway(data[\"Job Family\"],data[\"Workplace Preference\"])"
   ]
  },
  {
   "cell_type": "code",
   "execution_count": 7,
   "id": "c5fd7e12",
   "metadata": {},
   "outputs": [
    {
     "data": {
      "text/plain": [
       "F_onewayResult(statistic=542.0153979816931, pvalue=7.401656483167433e-102)"
      ]
     },
     "execution_count": 7,
     "metadata": {},
     "output_type": "execute_result"
    }
   ],
   "source": [
    "f_oneway(data[\"Job Family\"],data[\"Environment Productivity Impact\"])"
   ]
  },
  {
   "cell_type": "code",
   "execution_count": null,
   "id": "489d4471",
   "metadata": {},
   "outputs": [],
   "source": []
  }
 ],
 "metadata": {
  "kernelspec": {
   "display_name": "Python 3 (ipykernel)",
   "language": "python",
   "name": "python3"
  },
  "language_info": {
   "codemirror_mode": {
    "name": "ipython",
    "version": 3
   },
   "file_extension": ".py",
   "mimetype": "text/x-python",
   "name": "python",
   "nbconvert_exporter": "python",
   "pygments_lexer": "ipython3",
   "version": "3.11.5"
  }
 },
 "nbformat": 4,
 "nbformat_minor": 5
}
